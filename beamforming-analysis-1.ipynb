{
 "cells": [
  {
   "cell_type": "code",
   "execution_count": 1,
   "id": "e8284d18",
   "metadata": {
    "_cell_guid": "b1076dfc-b9ad-4769-8c92-a6c4dae69d19",
    "_uuid": "8f2839f25d086af736a60e9eeb907d3b93b6e0e5",
    "execution": {
     "iopub.execute_input": "2025-07-23T18:08:06.838083Z",
     "iopub.status.busy": "2025-07-23T18:08:06.837715Z",
     "iopub.status.idle": "2025-07-23T18:08:08.537125Z",
     "shell.execute_reply": "2025-07-23T18:08:08.536194Z"
    },
    "papermill": {
     "duration": 1.706204,
     "end_time": "2025-07-23T18:08:08.538703",
     "exception": false,
     "start_time": "2025-07-23T18:08:06.832499",
     "status": "completed"
    },
    "tags": []
   },
   "outputs": [
    {
     "name": "stdout",
     "output_type": "stream",
     "text": [
      "/kaggle/input/beamforming-data-analysis/beamforming_dataset.csv\n"
     ]
    }
   ],
   "source": [
    "# This Python 3 environment comes with many helpful analytics libraries installed\n",
    "# It is defined by the kaggle/python Docker image: https://github.com/kaggle/docker-python\n",
    "# For example, here's several helpful packages to load\n",
    "\n",
    "import numpy as np # linear algebra\n",
    "import pandas as pd # data processing, CSV file I/O (e.g. pd.read_csv)\n",
    "\n",
    "# Input data files are available in the read-only \"../input/\" directory\n",
    "# For example, running this (by clicking run or pressing Shift+Enter) will list all files under the input directory\n",
    "\n",
    "import os\n",
    "for dirname, _, filenames in os.walk('/kaggle/input'):\n",
    "    for filename in filenames:\n",
    "        print(os.path.join(dirname, filename))\n",
    "\n",
    "# You can write up to 20GB to the current directory (/kaggle/working/) that gets preserved as output when you create a version using \"Save & Run All\" \n",
    "# You can also write temporary files to /kaggle/temp/, but they won't be saved outside of the current session"
   ]
  },
  {
   "cell_type": "markdown",
   "id": "2d4f06c7",
   "metadata": {
    "papermill": {
     "duration": 0.003145,
     "end_time": "2025-07-23T18:08:08.545815",
     "exception": false,
     "start_time": "2025-07-23T18:08:08.542670",
     "status": "completed"
    },
    "tags": []
   },
   "source": [
    "# Import necessary libraries"
   ]
  },
  {
   "cell_type": "code",
   "execution_count": 2,
   "id": "ef1ee8fb",
   "metadata": {
    "execution": {
     "iopub.execute_input": "2025-07-23T18:08:08.553558Z",
     "iopub.status.busy": "2025-07-23T18:08:08.553139Z",
     "iopub.status.idle": "2025-07-23T18:08:25.701609Z",
     "shell.execute_reply": "2025-07-23T18:08:25.700625Z"
    },
    "papermill": {
     "duration": 17.154164,
     "end_time": "2025-07-23T18:08:25.703322",
     "exception": false,
     "start_time": "2025-07-23T18:08:08.549158",
     "status": "completed"
    },
    "tags": []
   },
   "outputs": [
    {
     "name": "stderr",
     "output_type": "stream",
     "text": [
      "2025-07-23 18:08:12.389378: E external/local_xla/xla/stream_executor/cuda/cuda_fft.cc:477] Unable to register cuFFT factory: Attempting to register factory for plugin cuFFT when one has already been registered\n",
      "WARNING: All log messages before absl::InitializeLog() is called are written to STDERR\n",
      "E0000 00:00:1753294092.600664      13 cuda_dnn.cc:8310] Unable to register cuDNN factory: Attempting to register factory for plugin cuDNN when one has already been registered\n",
      "E0000 00:00:1753294092.659090      13 cuda_blas.cc:1418] Unable to register cuBLAS factory: Attempting to register factory for plugin cuBLAS when one has already been registered\n"
     ]
    }
   ],
   "source": [
    "import pandas as pd\n",
    "import numpy as np\n",
    "import matplotlib.pyplot as plt\n",
    "import seaborn as sns\n",
    "from sklearn.model_selection import train_test_split\n",
    "from sklearn.preprocessing import StandardScaler, OneHotEncoder\n",
    "from sklearn.neighbors import KNeighborsClassifier\n",
    "from sklearn.metrics import accuracy_score, classification_report, confusion_matrix\n",
    "import tensorflow as tf\n",
    "from tensorflow.keras.models import Sequential\n",
    "from tensorflow.keras.layers import Dense, Flatten, Input, Conv1D, MaxPooling1D\n",
    "from tensorflow.keras.utils import to_categorical\n",
    "from tensorflow.keras.callbacks import EarlyStopping"
   ]
  },
  {
   "cell_type": "markdown",
   "id": "10ac5945",
   "metadata": {
    "papermill": {
     "duration": 0.003225,
     "end_time": "2025-07-23T18:08:25.710227",
     "exception": false,
     "start_time": "2025-07-23T18:08:25.707002",
     "status": "completed"
    },
    "tags": []
   },
   "source": [
    "# 1. Data Loading"
   ]
  },
  {
   "cell_type": "code",
   "execution_count": 3,
   "id": "75079943",
   "metadata": {
    "execution": {
     "iopub.execute_input": "2025-07-23T18:08:25.717808Z",
     "iopub.status.busy": "2025-07-23T18:08:25.717308Z",
     "iopub.status.idle": "2025-07-23T18:08:25.882695Z",
     "shell.execute_reply": "2025-07-23T18:08:25.881971Z"
    },
    "papermill": {
     "duration": 0.171024,
     "end_time": "2025-07-23T18:08:25.884394",
     "exception": false,
     "start_time": "2025-07-23T18:08:25.713370",
     "status": "completed"
    },
    "tags": []
   },
   "outputs": [],
   "source": [
    "df = pd.read_csv('/kaggle/input/beamforming-data-analysis/beamforming_dataset.csv')"
   ]
  },
  {
   "cell_type": "code",
   "execution_count": 4,
   "id": "f91676c2",
   "metadata": {
    "execution": {
     "iopub.execute_input": "2025-07-23T18:08:25.893041Z",
     "iopub.status.busy": "2025-07-23T18:08:25.892368Z",
     "iopub.status.idle": "2025-07-23T18:08:25.931549Z",
     "shell.execute_reply": "2025-07-23T18:08:25.930554Z"
    },
    "papermill": {
     "duration": 0.045407,
     "end_time": "2025-07-23T18:08:25.933410",
     "exception": false,
     "start_time": "2025-07-23T18:08:25.888003",
     "status": "completed"
    },
    "tags": []
   },
   "outputs": [
    {
     "data": {
      "text/html": [
       "<div>\n",
       "<style scoped>\n",
       "    .dataframe tbody tr th:only-of-type {\n",
       "        vertical-align: middle;\n",
       "    }\n",
       "\n",
       "    .dataframe tbody tr th {\n",
       "        vertical-align: top;\n",
       "    }\n",
       "\n",
       "    .dataframe thead th {\n",
       "        text-align: right;\n",
       "    }\n",
       "</style>\n",
       "<table border=\"1\" class=\"dataframe\">\n",
       "  <thead>\n",
       "    <tr style=\"text-align: right;\">\n",
       "      <th></th>\n",
       "      <th>sample_id</th>\n",
       "      <th>user_loc_hist_x_0</th>\n",
       "      <th>user_loc_hist_y_0</th>\n",
       "      <th>user_loc_hist_x_1</th>\n",
       "      <th>user_loc_hist_y_1</th>\n",
       "      <th>user_loc_hist_x_2</th>\n",
       "      <th>user_loc_hist_y_2</th>\n",
       "      <th>user_loc_hist_x_3</th>\n",
       "      <th>user_loc_hist_y_3</th>\n",
       "      <th>user_loc_hist_x_4</th>\n",
       "      <th>...</th>\n",
       "      <th>csi_beam_5</th>\n",
       "      <th>csi_beam_6</th>\n",
       "      <th>csi_beam_7</th>\n",
       "      <th>beam_hist_0</th>\n",
       "      <th>beam_hist_1</th>\n",
       "      <th>beam_hist_2</th>\n",
       "      <th>beam_hist_3</th>\n",
       "      <th>beam_hist_4</th>\n",
       "      <th>sinr</th>\n",
       "      <th>optimal_beam_index</th>\n",
       "    </tr>\n",
       "  </thead>\n",
       "  <tbody>\n",
       "    <tr>\n",
       "      <th>0</th>\n",
       "      <td>0</td>\n",
       "      <td>51.857691</td>\n",
       "      <td>16.431856</td>\n",
       "      <td>62.919147</td>\n",
       "      <td>-26.694539</td>\n",
       "      <td>-94.865295</td>\n",
       "      <td>-1.516257</td>\n",
       "      <td>-17.190054</td>\n",
       "      <td>-95.728383</td>\n",
       "      <td>33.980550</td>\n",
       "      <td>...</td>\n",
       "      <td>2.964829</td>\n",
       "      <td>5.932241</td>\n",
       "      <td>6.349953</td>\n",
       "      <td>4</td>\n",
       "      <td>1</td>\n",
       "      <td>2</td>\n",
       "      <td>2</td>\n",
       "      <td>6</td>\n",
       "      <td>6.369092</td>\n",
       "      <td>2</td>\n",
       "    </tr>\n",
       "    <tr>\n",
       "      <th>1</th>\n",
       "      <td>1</td>\n",
       "      <td>-37.225273</td>\n",
       "      <td>-16.337037</td>\n",
       "      <td>-53.455520</td>\n",
       "      <td>-94.147930</td>\n",
       "      <td>43.411029</td>\n",
       "      <td>98.100884</td>\n",
       "      <td>7.226816</td>\n",
       "      <td>-29.459182</td>\n",
       "      <td>70.369568</td>\n",
       "      <td>...</td>\n",
       "      <td>2.459980</td>\n",
       "      <td>6.943596</td>\n",
       "      <td>3.087622</td>\n",
       "      <td>0</td>\n",
       "      <td>4</td>\n",
       "      <td>0</td>\n",
       "      <td>0</td>\n",
       "      <td>2</td>\n",
       "      <td>12.462178</td>\n",
       "      <td>1</td>\n",
       "    </tr>\n",
       "    <tr>\n",
       "      <th>2</th>\n",
       "      <td>2</td>\n",
       "      <td>77.031690</td>\n",
       "      <td>3.970814</td>\n",
       "      <td>-46.483865</td>\n",
       "      <td>-28.278262</td>\n",
       "      <td>87.036809</td>\n",
       "      <td>-12.240793</td>\n",
       "      <td>-65.956373</td>\n",
       "      <td>0.682597</td>\n",
       "      <td>21.902704</td>\n",
       "      <td>...</td>\n",
       "      <td>3.444585</td>\n",
       "      <td>1.728221</td>\n",
       "      <td>6.249143</td>\n",
       "      <td>2</td>\n",
       "      <td>5</td>\n",
       "      <td>0</td>\n",
       "      <td>0</td>\n",
       "      <td>1</td>\n",
       "      <td>26.177661</td>\n",
       "      <td>2</td>\n",
       "    </tr>\n",
       "    <tr>\n",
       "      <th>3</th>\n",
       "      <td>3</td>\n",
       "      <td>-17.785836</td>\n",
       "      <td>4.961503</td>\n",
       "      <td>-49.034502</td>\n",
       "      <td>-38.873527</td>\n",
       "      <td>99.192286</td>\n",
       "      <td>-19.290668</td>\n",
       "      <td>28.382459</td>\n",
       "      <td>-83.847260</td>\n",
       "      <td>88.615291</td>\n",
       "      <td>...</td>\n",
       "      <td>1.277260</td>\n",
       "      <td>2.789594</td>\n",
       "      <td>8.394630</td>\n",
       "      <td>7</td>\n",
       "      <td>3</td>\n",
       "      <td>6</td>\n",
       "      <td>7</td>\n",
       "      <td>0</td>\n",
       "      <td>16.474037</td>\n",
       "      <td>7</td>\n",
       "    </tr>\n",
       "    <tr>\n",
       "      <th>4</th>\n",
       "      <td>4</td>\n",
       "      <td>20.725721</td>\n",
       "      <td>6.003185</td>\n",
       "      <td>54.122171</td>\n",
       "      <td>92.838712</td>\n",
       "      <td>26.094274</td>\n",
       "      <td>99.988461</td>\n",
       "      <td>89.469675</td>\n",
       "      <td>26.114648</td>\n",
       "      <td>-55.987237</td>\n",
       "      <td>...</td>\n",
       "      <td>6.461580</td>\n",
       "      <td>7.412339</td>\n",
       "      <td>8.544736</td>\n",
       "      <td>1</td>\n",
       "      <td>6</td>\n",
       "      <td>1</td>\n",
       "      <td>3</td>\n",
       "      <td>3</td>\n",
       "      <td>19.418128</td>\n",
       "      <td>1</td>\n",
       "    </tr>\n",
       "  </tbody>\n",
       "</table>\n",
       "<p>5 rows × 26 columns</p>\n",
       "</div>"
      ],
      "text/plain": [
       "   sample_id  user_loc_hist_x_0  user_loc_hist_y_0  user_loc_hist_x_1  \\\n",
       "0          0          51.857691          16.431856          62.919147   \n",
       "1          1         -37.225273         -16.337037         -53.455520   \n",
       "2          2          77.031690           3.970814         -46.483865   \n",
       "3          3         -17.785836           4.961503         -49.034502   \n",
       "4          4          20.725721           6.003185          54.122171   \n",
       "\n",
       "   user_loc_hist_y_1  user_loc_hist_x_2  user_loc_hist_y_2  user_loc_hist_x_3  \\\n",
       "0         -26.694539         -94.865295          -1.516257         -17.190054   \n",
       "1         -94.147930          43.411029          98.100884           7.226816   \n",
       "2         -28.278262          87.036809         -12.240793         -65.956373   \n",
       "3         -38.873527          99.192286         -19.290668          28.382459   \n",
       "4          92.838712          26.094274          99.988461          89.469675   \n",
       "\n",
       "   user_loc_hist_y_3  user_loc_hist_x_4  ...  csi_beam_5  csi_beam_6  \\\n",
       "0         -95.728383          33.980550  ...    2.964829    5.932241   \n",
       "1         -29.459182          70.369568  ...    2.459980    6.943596   \n",
       "2           0.682597          21.902704  ...    3.444585    1.728221   \n",
       "3         -83.847260          88.615291  ...    1.277260    2.789594   \n",
       "4          26.114648         -55.987237  ...    6.461580    7.412339   \n",
       "\n",
       "   csi_beam_7  beam_hist_0  beam_hist_1  beam_hist_2  beam_hist_3  \\\n",
       "0    6.349953            4            1            2            2   \n",
       "1    3.087622            0            4            0            0   \n",
       "2    6.249143            2            5            0            0   \n",
       "3    8.394630            7            3            6            7   \n",
       "4    8.544736            1            6            1            3   \n",
       "\n",
       "   beam_hist_4       sinr  optimal_beam_index  \n",
       "0            6   6.369092                   2  \n",
       "1            2  12.462178                   1  \n",
       "2            1  26.177661                   2  \n",
       "3            0  16.474037                   7  \n",
       "4            3  19.418128                   1  \n",
       "\n",
       "[5 rows x 26 columns]"
      ]
     },
     "execution_count": 4,
     "metadata": {},
     "output_type": "execute_result"
    }
   ],
   "source": [
    "df.head()"
   ]
  },
  {
   "cell_type": "markdown",
   "id": "bbe38d34",
   "metadata": {
    "papermill": {
     "duration": 0.003804,
     "end_time": "2025-07-23T18:08:25.941600",
     "exception": false,
     "start_time": "2025-07-23T18:08:25.937796",
     "status": "completed"
    },
    "tags": []
   },
   "source": [
    "Here in the data we have different features:\n",
    "\n",
    "1. num_samples: Total number of data points (e.g., 10,000 different time instances/scenarios).\n",
    "\n",
    "2. num_beams: Number of discrete beam directions available (e.g., 8).\n",
    "\n",
    "3. history_length: How many past time steps we consider for user location and beamforming history.\n",
    "\n",
    "4. User Location History (user_loc_hist_x_i, user_loc_hist_y_i): Simulated as 2D (x, y) coordinates. history_length pairs of (x, y) values for each sample, representing the path the user took.\n",
    "\n",
    "5. Channel State Information (CSI) (csi_beam_i):\n",
    "- Simplified as num_beams individual values. Each value represents the \"strength\" or \"gain\" of the channel if that particular beam were used.\n",
    "- Higher values generally imply better channel conditions for that beam.\n",
    "- In reality, CSI is a complex matrix or vector of channel impulse responses, often involving complex numbers. This simplified version is for demonstration.\n",
    "\n",
    "6. Beamforming History (beam_hist_i):\n",
    "\n",
    "- history_length integer values, each representing the index of the beam that was used at a previous time step.\n",
    "\n",
    "- Values are np.random.randint from 0 to num_beams-1.\n",
    "\n",
    "7. SINR (sinr):\n",
    "\n",
    "- A single floating-point value representing the Signal-to-Interference-plus-Noise Ratio.\n",
    "\n",
    "- Simulated as np.random.uniform within a typical dB range.\n",
    "\n",
    "8. Optimal Beam Index (optimal_beam_index):\n",
    "\n",
    "- This is our target variable. For this synthetic dataset, we've implemented a very simplistic rule:\n",
    "\n",
    "- It primarily picks the beam with the highest current CSI gain.\n",
    "\n",
    "- It includes a small, arbitrary \"location bias\" (e.g., if the user's last X coordinate is high, it might slightly shift the optimal beam index). This rule is crucial: In a real-world scenario, this value would be derived from actual network optimization, measurements, or a more sophisticated simulator. Your ML model will learn to approximate this complex underlying function."
   ]
  },
  {
   "cell_type": "code",
   "execution_count": 5,
   "id": "f358fbb8",
   "metadata": {
    "execution": {
     "iopub.execute_input": "2025-07-23T18:08:25.951017Z",
     "iopub.status.busy": "2025-07-23T18:08:25.950676Z",
     "iopub.status.idle": "2025-07-23T18:08:25.970891Z",
     "shell.execute_reply": "2025-07-23T18:08:25.969778Z"
    },
    "papermill": {
     "duration": 0.027029,
     "end_time": "2025-07-23T18:08:25.972416",
     "exception": false,
     "start_time": "2025-07-23T18:08:25.945387",
     "status": "completed"
    },
    "tags": []
   },
   "outputs": [
    {
     "name": "stdout",
     "output_type": "stream",
     "text": [
      "<class 'pandas.core.frame.DataFrame'>\n",
      "RangeIndex: 10000 entries, 0 to 9999\n",
      "Data columns (total 26 columns):\n",
      " #   Column              Non-Null Count  Dtype  \n",
      "---  ------              --------------  -----  \n",
      " 0   sample_id           10000 non-null  int64  \n",
      " 1   user_loc_hist_x_0   10000 non-null  float64\n",
      " 2   user_loc_hist_y_0   10000 non-null  float64\n",
      " 3   user_loc_hist_x_1   10000 non-null  float64\n",
      " 4   user_loc_hist_y_1   10000 non-null  float64\n",
      " 5   user_loc_hist_x_2   10000 non-null  float64\n",
      " 6   user_loc_hist_y_2   10000 non-null  float64\n",
      " 7   user_loc_hist_x_3   10000 non-null  float64\n",
      " 8   user_loc_hist_y_3   10000 non-null  float64\n",
      " 9   user_loc_hist_x_4   10000 non-null  float64\n",
      " 10  user_loc_hist_y_4   10000 non-null  float64\n",
      " 11  csi_beam_0          10000 non-null  float64\n",
      " 12  csi_beam_1          10000 non-null  float64\n",
      " 13  csi_beam_2          10000 non-null  float64\n",
      " 14  csi_beam_3          10000 non-null  float64\n",
      " 15  csi_beam_4          10000 non-null  float64\n",
      " 16  csi_beam_5          10000 non-null  float64\n",
      " 17  csi_beam_6          10000 non-null  float64\n",
      " 18  csi_beam_7          10000 non-null  float64\n",
      " 19  beam_hist_0         10000 non-null  int64  \n",
      " 20  beam_hist_1         10000 non-null  int64  \n",
      " 21  beam_hist_2         10000 non-null  int64  \n",
      " 22  beam_hist_3         10000 non-null  int64  \n",
      " 23  beam_hist_4         10000 non-null  int64  \n",
      " 24  sinr                10000 non-null  float64\n",
      " 25  optimal_beam_index  10000 non-null  int64  \n",
      "dtypes: float64(19), int64(7)\n",
      "memory usage: 2.0 MB\n"
     ]
    }
   ],
   "source": [
    "df.info()"
   ]
  },
  {
   "cell_type": "code",
   "execution_count": 6,
   "id": "1227d0b8",
   "metadata": {
    "execution": {
     "iopub.execute_input": "2025-07-23T18:08:25.980708Z",
     "iopub.status.busy": "2025-07-23T18:08:25.980437Z",
     "iopub.status.idle": "2025-07-23T18:08:26.049724Z",
     "shell.execute_reply": "2025-07-23T18:08:26.048850Z"
    },
    "papermill": {
     "duration": 0.074958,
     "end_time": "2025-07-23T18:08:26.051236",
     "exception": false,
     "start_time": "2025-07-23T18:08:25.976278",
     "status": "completed"
    },
    "tags": []
   },
   "outputs": [
    {
     "data": {
      "text/html": [
       "<div>\n",
       "<style scoped>\n",
       "    .dataframe tbody tr th:only-of-type {\n",
       "        vertical-align: middle;\n",
       "    }\n",
       "\n",
       "    .dataframe tbody tr th {\n",
       "        vertical-align: top;\n",
       "    }\n",
       "\n",
       "    .dataframe thead th {\n",
       "        text-align: right;\n",
       "    }\n",
       "</style>\n",
       "<table border=\"1\" class=\"dataframe\">\n",
       "  <thead>\n",
       "    <tr style=\"text-align: right;\">\n",
       "      <th></th>\n",
       "      <th>sample_id</th>\n",
       "      <th>user_loc_hist_x_0</th>\n",
       "      <th>user_loc_hist_y_0</th>\n",
       "      <th>user_loc_hist_x_1</th>\n",
       "      <th>user_loc_hist_y_1</th>\n",
       "      <th>user_loc_hist_x_2</th>\n",
       "      <th>user_loc_hist_y_2</th>\n",
       "      <th>user_loc_hist_x_3</th>\n",
       "      <th>user_loc_hist_y_3</th>\n",
       "      <th>user_loc_hist_x_4</th>\n",
       "      <th>...</th>\n",
       "      <th>csi_beam_5</th>\n",
       "      <th>csi_beam_6</th>\n",
       "      <th>csi_beam_7</th>\n",
       "      <th>beam_hist_0</th>\n",
       "      <th>beam_hist_1</th>\n",
       "      <th>beam_hist_2</th>\n",
       "      <th>beam_hist_3</th>\n",
       "      <th>beam_hist_4</th>\n",
       "      <th>sinr</th>\n",
       "      <th>optimal_beam_index</th>\n",
       "    </tr>\n",
       "  </thead>\n",
       "  <tbody>\n",
       "    <tr>\n",
       "      <th>count</th>\n",
       "      <td>10000.00000</td>\n",
       "      <td>10000.000000</td>\n",
       "      <td>10000.000000</td>\n",
       "      <td>10000.000000</td>\n",
       "      <td>10000.000000</td>\n",
       "      <td>10000.000000</td>\n",
       "      <td>10000.000000</td>\n",
       "      <td>10000.000000</td>\n",
       "      <td>10000.000000</td>\n",
       "      <td>10000.000000</td>\n",
       "      <td>...</td>\n",
       "      <td>10000.000000</td>\n",
       "      <td>10000.000000</td>\n",
       "      <td>10000.000000</td>\n",
       "      <td>10000.00000</td>\n",
       "      <td>10000.00000</td>\n",
       "      <td>10000.000000</td>\n",
       "      <td>10000.000000</td>\n",
       "      <td>10000.000000</td>\n",
       "      <td>10000.000000</td>\n",
       "      <td>10000.000000</td>\n",
       "    </tr>\n",
       "    <tr>\n",
       "      <th>mean</th>\n",
       "      <td>4999.50000</td>\n",
       "      <td>0.325104</td>\n",
       "      <td>-0.302147</td>\n",
       "      <td>-0.016580</td>\n",
       "      <td>0.620732</td>\n",
       "      <td>0.929860</td>\n",
       "      <td>0.627001</td>\n",
       "      <td>-0.236695</td>\n",
       "      <td>-1.035627</td>\n",
       "      <td>-1.247463</td>\n",
       "      <td>...</td>\n",
       "      <td>5.075503</td>\n",
       "      <td>5.036890</td>\n",
       "      <td>5.038112</td>\n",
       "      <td>3.50690</td>\n",
       "      <td>3.50220</td>\n",
       "      <td>3.493600</td>\n",
       "      <td>3.508700</td>\n",
       "      <td>3.491500</td>\n",
       "      <td>17.421383</td>\n",
       "      <td>3.616000</td>\n",
       "    </tr>\n",
       "    <tr>\n",
       "      <th>std</th>\n",
       "      <td>2886.89568</td>\n",
       "      <td>58.191010</td>\n",
       "      <td>57.530205</td>\n",
       "      <td>57.303778</td>\n",
       "      <td>57.772163</td>\n",
       "      <td>57.707768</td>\n",
       "      <td>57.587878</td>\n",
       "      <td>57.382690</td>\n",
       "      <td>57.714308</td>\n",
       "      <td>57.524857</td>\n",
       "      <td>...</td>\n",
       "      <td>2.880924</td>\n",
       "      <td>2.871532</td>\n",
       "      <td>2.847330</td>\n",
       "      <td>2.29305</td>\n",
       "      <td>2.28397</td>\n",
       "      <td>2.276769</td>\n",
       "      <td>2.293829</td>\n",
       "      <td>2.290776</td>\n",
       "      <td>7.196477</td>\n",
       "      <td>2.282688</td>\n",
       "    </tr>\n",
       "    <tr>\n",
       "      <th>min</th>\n",
       "      <td>0.00000</td>\n",
       "      <td>-99.947542</td>\n",
       "      <td>-99.998059</td>\n",
       "      <td>-99.992984</td>\n",
       "      <td>-99.996790</td>\n",
       "      <td>-99.986027</td>\n",
       "      <td>-99.993389</td>\n",
       "      <td>-99.968288</td>\n",
       "      <td>-99.999993</td>\n",
       "      <td>-99.954957</td>\n",
       "      <td>...</td>\n",
       "      <td>0.100200</td>\n",
       "      <td>0.100046</td>\n",
       "      <td>0.100335</td>\n",
       "      <td>0.00000</td>\n",
       "      <td>0.00000</td>\n",
       "      <td>0.000000</td>\n",
       "      <td>0.000000</td>\n",
       "      <td>0.000000</td>\n",
       "      <td>5.003507</td>\n",
       "      <td>0.000000</td>\n",
       "    </tr>\n",
       "    <tr>\n",
       "      <th>25%</th>\n",
       "      <td>2499.75000</td>\n",
       "      <td>-50.677117</td>\n",
       "      <td>-50.190089</td>\n",
       "      <td>-48.674077</td>\n",
       "      <td>-49.725459</td>\n",
       "      <td>-48.912149</td>\n",
       "      <td>-49.190754</td>\n",
       "      <td>-49.287389</td>\n",
       "      <td>-51.424974</td>\n",
       "      <td>-51.360085</td>\n",
       "      <td>...</td>\n",
       "      <td>2.586787</td>\n",
       "      <td>2.504898</td>\n",
       "      <td>2.573640</td>\n",
       "      <td>2.00000</td>\n",
       "      <td>2.00000</td>\n",
       "      <td>2.000000</td>\n",
       "      <td>2.000000</td>\n",
       "      <td>1.000000</td>\n",
       "      <td>11.136612</td>\n",
       "      <td>2.000000</td>\n",
       "    </tr>\n",
       "    <tr>\n",
       "      <th>50%</th>\n",
       "      <td>4999.50000</td>\n",
       "      <td>0.320167</td>\n",
       "      <td>0.200420</td>\n",
       "      <td>-0.259913</td>\n",
       "      <td>0.875761</td>\n",
       "      <td>1.350589</td>\n",
       "      <td>0.912906</td>\n",
       "      <td>0.384411</td>\n",
       "      <td>-2.171292</td>\n",
       "      <td>-1.677622</td>\n",
       "      <td>...</td>\n",
       "      <td>5.098972</td>\n",
       "      <td>5.059064</td>\n",
       "      <td>5.026271</td>\n",
       "      <td>3.00000</td>\n",
       "      <td>4.00000</td>\n",
       "      <td>3.000000</td>\n",
       "      <td>4.000000</td>\n",
       "      <td>4.000000</td>\n",
       "      <td>17.356167</td>\n",
       "      <td>4.000000</td>\n",
       "    </tr>\n",
       "    <tr>\n",
       "      <th>75%</th>\n",
       "      <td>7499.25000</td>\n",
       "      <td>50.938478</td>\n",
       "      <td>49.278699</td>\n",
       "      <td>48.660853</td>\n",
       "      <td>50.601777</td>\n",
       "      <td>50.775882</td>\n",
       "      <td>50.152045</td>\n",
       "      <td>48.653145</td>\n",
       "      <td>49.016479</td>\n",
       "      <td>48.414975</td>\n",
       "      <td>...</td>\n",
       "      <td>7.564823</td>\n",
       "      <td>7.537030</td>\n",
       "      <td>7.520178</td>\n",
       "      <td>6.00000</td>\n",
       "      <td>5.00000</td>\n",
       "      <td>5.000000</td>\n",
       "      <td>6.000000</td>\n",
       "      <td>5.000000</td>\n",
       "      <td>23.575427</td>\n",
       "      <td>6.000000</td>\n",
       "    </tr>\n",
       "    <tr>\n",
       "      <th>max</th>\n",
       "      <td>9999.00000</td>\n",
       "      <td>99.964268</td>\n",
       "      <td>99.983350</td>\n",
       "      <td>99.971405</td>\n",
       "      <td>99.922727</td>\n",
       "      <td>99.988871</td>\n",
       "      <td>99.988461</td>\n",
       "      <td>99.990378</td>\n",
       "      <td>99.999262</td>\n",
       "      <td>99.996028</td>\n",
       "      <td>...</td>\n",
       "      <td>9.999913</td>\n",
       "      <td>9.998839</td>\n",
       "      <td>9.996120</td>\n",
       "      <td>7.00000</td>\n",
       "      <td>7.00000</td>\n",
       "      <td>7.000000</td>\n",
       "      <td>7.000000</td>\n",
       "      <td>7.000000</td>\n",
       "      <td>29.997548</td>\n",
       "      <td>7.000000</td>\n",
       "    </tr>\n",
       "  </tbody>\n",
       "</table>\n",
       "<p>8 rows × 26 columns</p>\n",
       "</div>"
      ],
      "text/plain": [
       "         sample_id  user_loc_hist_x_0  user_loc_hist_y_0  user_loc_hist_x_1  \\\n",
       "count  10000.00000       10000.000000       10000.000000       10000.000000   \n",
       "mean    4999.50000           0.325104          -0.302147          -0.016580   \n",
       "std     2886.89568          58.191010          57.530205          57.303778   \n",
       "min        0.00000         -99.947542         -99.998059         -99.992984   \n",
       "25%     2499.75000         -50.677117         -50.190089         -48.674077   \n",
       "50%     4999.50000           0.320167           0.200420          -0.259913   \n",
       "75%     7499.25000          50.938478          49.278699          48.660853   \n",
       "max     9999.00000          99.964268          99.983350          99.971405   \n",
       "\n",
       "       user_loc_hist_y_1  user_loc_hist_x_2  user_loc_hist_y_2  \\\n",
       "count       10000.000000       10000.000000       10000.000000   \n",
       "mean            0.620732           0.929860           0.627001   \n",
       "std            57.772163          57.707768          57.587878   \n",
       "min           -99.996790         -99.986027         -99.993389   \n",
       "25%           -49.725459         -48.912149         -49.190754   \n",
       "50%             0.875761           1.350589           0.912906   \n",
       "75%            50.601777          50.775882          50.152045   \n",
       "max            99.922727          99.988871          99.988461   \n",
       "\n",
       "       user_loc_hist_x_3  user_loc_hist_y_3  user_loc_hist_x_4  ...  \\\n",
       "count       10000.000000       10000.000000       10000.000000  ...   \n",
       "mean           -0.236695          -1.035627          -1.247463  ...   \n",
       "std            57.382690          57.714308          57.524857  ...   \n",
       "min           -99.968288         -99.999993         -99.954957  ...   \n",
       "25%           -49.287389         -51.424974         -51.360085  ...   \n",
       "50%             0.384411          -2.171292          -1.677622  ...   \n",
       "75%            48.653145          49.016479          48.414975  ...   \n",
       "max            99.990378          99.999262          99.996028  ...   \n",
       "\n",
       "         csi_beam_5    csi_beam_6    csi_beam_7  beam_hist_0  beam_hist_1  \\\n",
       "count  10000.000000  10000.000000  10000.000000  10000.00000  10000.00000   \n",
       "mean       5.075503      5.036890      5.038112      3.50690      3.50220   \n",
       "std        2.880924      2.871532      2.847330      2.29305      2.28397   \n",
       "min        0.100200      0.100046      0.100335      0.00000      0.00000   \n",
       "25%        2.586787      2.504898      2.573640      2.00000      2.00000   \n",
       "50%        5.098972      5.059064      5.026271      3.00000      4.00000   \n",
       "75%        7.564823      7.537030      7.520178      6.00000      5.00000   \n",
       "max        9.999913      9.998839      9.996120      7.00000      7.00000   \n",
       "\n",
       "        beam_hist_2   beam_hist_3   beam_hist_4          sinr  \\\n",
       "count  10000.000000  10000.000000  10000.000000  10000.000000   \n",
       "mean       3.493600      3.508700      3.491500     17.421383   \n",
       "std        2.276769      2.293829      2.290776      7.196477   \n",
       "min        0.000000      0.000000      0.000000      5.003507   \n",
       "25%        2.000000      2.000000      1.000000     11.136612   \n",
       "50%        3.000000      4.000000      4.000000     17.356167   \n",
       "75%        5.000000      6.000000      5.000000     23.575427   \n",
       "max        7.000000      7.000000      7.000000     29.997548   \n",
       "\n",
       "       optimal_beam_index  \n",
       "count        10000.000000  \n",
       "mean             3.616000  \n",
       "std              2.282688  \n",
       "min              0.000000  \n",
       "25%              2.000000  \n",
       "50%              4.000000  \n",
       "75%              6.000000  \n",
       "max              7.000000  \n",
       "\n",
       "[8 rows x 26 columns]"
      ]
     },
     "execution_count": 6,
     "metadata": {},
     "output_type": "execute_result"
    }
   ],
   "source": [
    "df.describe()"
   ]
  },
  {
   "cell_type": "code",
   "execution_count": 7,
   "id": "e41e6837",
   "metadata": {
    "execution": {
     "iopub.execute_input": "2025-07-23T18:08:26.061424Z",
     "iopub.status.busy": "2025-07-23T18:08:26.061110Z",
     "iopub.status.idle": "2025-07-23T18:08:26.068726Z",
     "shell.execute_reply": "2025-07-23T18:08:26.067880Z"
    },
    "papermill": {
     "duration": 0.014537,
     "end_time": "2025-07-23T18:08:26.070029",
     "exception": false,
     "start_time": "2025-07-23T18:08:26.055492",
     "status": "completed"
    },
    "tags": []
   },
   "outputs": [
    {
     "data": {
      "text/plain": [
       "sample_id             0\n",
       "user_loc_hist_x_0     0\n",
       "user_loc_hist_y_0     0\n",
       "user_loc_hist_x_1     0\n",
       "user_loc_hist_y_1     0\n",
       "user_loc_hist_x_2     0\n",
       "user_loc_hist_y_2     0\n",
       "user_loc_hist_x_3     0\n",
       "user_loc_hist_y_3     0\n",
       "user_loc_hist_x_4     0\n",
       "user_loc_hist_y_4     0\n",
       "csi_beam_0            0\n",
       "csi_beam_1            0\n",
       "csi_beam_2            0\n",
       "csi_beam_3            0\n",
       "csi_beam_4            0\n",
       "csi_beam_5            0\n",
       "csi_beam_6            0\n",
       "csi_beam_7            0\n",
       "beam_hist_0           0\n",
       "beam_hist_1           0\n",
       "beam_hist_2           0\n",
       "beam_hist_3           0\n",
       "beam_hist_4           0\n",
       "sinr                  0\n",
       "optimal_beam_index    0\n",
       "dtype: int64"
      ]
     },
     "execution_count": 7,
     "metadata": {},
     "output_type": "execute_result"
    }
   ],
   "source": [
    "df.isnull().sum()"
   ]
  },
  {
   "cell_type": "markdown",
   "id": "1e982089",
   "metadata": {
    "papermill": {
     "duration": 0.003737,
     "end_time": "2025-07-23T18:08:26.077869",
     "exception": false,
     "start_time": "2025-07-23T18:08:26.074132",
     "status": "completed"
    },
    "tags": []
   },
   "source": [
    "# EDA"
   ]
  },
  {
   "cell_type": "code",
   "execution_count": null,
   "id": "7858aae3",
   "metadata": {
    "papermill": {
     "duration": 0.003711,
     "end_time": "2025-07-23T18:08:26.085805",
     "exception": false,
     "start_time": "2025-07-23T18:08:26.082094",
     "status": "completed"
    },
    "tags": []
   },
   "outputs": [],
   "source": []
  },
  {
   "cell_type": "markdown",
   "id": "aea857f8",
   "metadata": {
    "papermill": {
     "duration": 0.003756,
     "end_time": "2025-07-23T18:08:26.093485",
     "exception": false,
     "start_time": "2025-07-23T18:08:26.089729",
     "status": "completed"
    },
    "tags": []
   },
   "source": [
    "# Feature Engineering\n",
    "\n",
    "- Feature Scaling and Normalization\n",
    "- ENcoding categorical features\n",
    "- Structuring inputs for DL"
   ]
  },
  {
   "cell_type": "code",
   "execution_count": null,
   "id": "314e0f70",
   "metadata": {
    "papermill": {
     "duration": 0.003789,
     "end_time": "2025-07-23T18:08:26.101088",
     "exception": false,
     "start_time": "2025-07-23T18:08:26.097299",
     "status": "completed"
    },
    "tags": []
   },
   "outputs": [],
   "source": []
  },
  {
   "cell_type": "markdown",
   "id": "3108596d",
   "metadata": {
    "papermill": {
     "duration": 0.003704,
     "end_time": "2025-07-23T18:08:26.108587",
     "exception": false,
     "start_time": "2025-07-23T18:08:26.104883",
     "status": "completed"
    },
    "tags": []
   },
   "source": [
    "# Model Selection and Training"
   ]
  },
  {
   "cell_type": "markdown",
   "id": "567890c0",
   "metadata": {
    "papermill": {
     "duration": 0.003686,
     "end_time": "2025-07-23T18:08:26.116162",
     "exception": false,
     "start_time": "2025-07-23T18:08:26.112476",
     "status": "completed"
    },
    "tags": []
   },
   "source": [
    "For this task we can use different models.\n",
    "\n",
    "- Supervised learning: This is a multi-class classification problem where you predict one of num_beams classes.\n",
    "- Deep Learning+ Embeddings. It is for the high- dimensional CSI/ History\n",
    "\n",
    "    - Autoencoders to reduce the dimensionality or learning compressed representations of high- dimensional embedding, then use this embedding as an input to the main classification model\n",
    "    - KNN - For similarity matching. For defining distance metric between samples. KNN Directly classifies based on the majority class of its nearest neighbors in the feature space."
   ]
  },
  {
   "cell_type": "code",
   "execution_count": null,
   "id": "91e4e639",
   "metadata": {
    "papermill": {
     "duration": 0.003773,
     "end_time": "2025-07-23T18:08:26.123648",
     "exception": false,
     "start_time": "2025-07-23T18:08:26.119875",
     "status": "completed"
    },
    "tags": []
   },
   "outputs": [],
   "source": []
  },
  {
   "cell_type": "markdown",
   "id": "94f26135",
   "metadata": {
    "papermill": {
     "duration": 0.003544,
     "end_time": "2025-07-23T18:08:26.130856",
     "exception": false,
     "start_time": "2025-07-23T18:08:26.127312",
     "status": "completed"
    },
    "tags": []
   },
   "source": [
    "# Results"
   ]
  },
  {
   "cell_type": "code",
   "execution_count": null,
   "id": "690e61c6",
   "metadata": {
    "papermill": {
     "duration": 0.003751,
     "end_time": "2025-07-23T18:08:26.138434",
     "exception": false,
     "start_time": "2025-07-23T18:08:26.134683",
     "status": "completed"
    },
    "tags": []
   },
   "outputs": [],
   "source": []
  },
  {
   "cell_type": "markdown",
   "id": "ac3fba70",
   "metadata": {
    "papermill": {
     "duration": 0.003821,
     "end_time": "2025-07-23T18:08:26.146196",
     "exception": false,
     "start_time": "2025-07-23T18:08:26.142375",
     "status": "completed"
    },
    "tags": []
   },
   "source": [
    "# Conclusion"
   ]
  },
  {
   "cell_type": "code",
   "execution_count": null,
   "id": "47308f10",
   "metadata": {
    "papermill": {
     "duration": 0.003829,
     "end_time": "2025-07-23T18:08:26.153919",
     "exception": false,
     "start_time": "2025-07-23T18:08:26.150090",
     "status": "completed"
    },
    "tags": []
   },
   "outputs": [],
   "source": []
  }
 ],
 "metadata": {
  "kaggle": {
   "accelerator": "none",
   "dataSources": [
    {
     "datasetId": 7929254,
     "sourceId": 12557443,
     "sourceType": "datasetVersion"
    }
   ],
   "dockerImageVersionId": 31089,
   "isGpuEnabled": false,
   "isInternetEnabled": true,
   "language": "python",
   "sourceType": "notebook"
  },
  "kernelspec": {
   "display_name": "Python 3",
   "language": "python",
   "name": "python3"
  },
  "language_info": {
   "codemirror_mode": {
    "name": "ipython",
    "version": 3
   },
   "file_extension": ".py",
   "mimetype": "text/x-python",
   "name": "python",
   "nbconvert_exporter": "python",
   "pygments_lexer": "ipython3",
   "version": "3.11.13"
  },
  "papermill": {
   "default_parameters": {},
   "duration": 27.119074,
   "end_time": "2025-07-23T18:08:29.354432",
   "environment_variables": {},
   "exception": null,
   "input_path": "__notebook__.ipynb",
   "output_path": "__notebook__.ipynb",
   "parameters": {},
   "start_time": "2025-07-23T18:08:02.235358",
   "version": "2.6.0"
  }
 },
 "nbformat": 4,
 "nbformat_minor": 5
}
