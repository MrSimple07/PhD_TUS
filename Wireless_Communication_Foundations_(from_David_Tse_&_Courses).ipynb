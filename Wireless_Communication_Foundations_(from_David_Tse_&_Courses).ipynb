{
  "nbformat": 4,
  "nbformat_minor": 0,
  "metadata": {
    "colab": {
      "provenance": [],
      "authorship_tag": "ABX9TyPo6tm1c4RbhZJ4/QJyELsz",
      "include_colab_link": true
    },
    "kernelspec": {
      "name": "python3",
      "display_name": "Python 3"
    },
    "language_info": {
      "name": "python"
    }
  },
  "cells": [
    {
      "cell_type": "markdown",
      "metadata": {
        "id": "view-in-github",
        "colab_type": "text"
      },
      "source": [
        "<a href=\"https://colab.research.google.com/github/MrSimple07/PhD_TUS/blob/main/Wireless_Communication_Foundations_(from_David_Tse_%26_Courses).ipynb\" target=\"_parent\"><img src=\"https://colab.research.google.com/assets/colab-badge.svg\" alt=\"Open In Colab\"/></a>"
      ]
    },
    {
      "cell_type": "markdown",
      "source": [
        "## 1. Wireless Communication Foundations (from David Tse & Courses)\n",
        "\n",
        "### 1.1. Key Concepts\n",
        "- **Channel**: Path that the signal takes from transmitter to receiver. Includes effects like noise, fading, interference.\n",
        "- **Modulation**: Mapping bits to waveforms (e.g., QAM, PSK).\n",
        "- **Multiple Access**: How users share spectrum. (TDMA, FDMA, OFDMA).\n",
        "- **MIMO**: Using multiple antennas to increase throughput/reliability.\n",
        "\n",
        "### 1.2. Channel Types\n",
        "- **AWGN (Additive White Gaussian Noise)**: Simplest, just noise.\n",
        "- **Rayleigh Fading**: No line-of-sight (multipath fading).\n",
        "- **Rician Fading**: Some line-of-sight + multipath.\n",
        "\n",
        "### 1.3. Capacity & Tradeoffs\n",
        "- **Shannon Capacity**: Max bits/sec you can send over a noisy channel.\n",
        "- **SNR (Signal-to-Noise Ratio)**: Higher SNR → higher capacity.\n",
        "\n",
        "> 🧠 ML Link: Learn to estimate, predict, and adapt to channel conditions (fading, interference) in real time.\n",
        "\n",
        "---"
      ],
      "metadata": {
        "id": "tYnqkqQICjt1"
      }
    },
    {
      "cell_type": "markdown",
      "source": [
        "# Channel\n",
        "\n",
        "We can see it as a signal's journey. It can be with noise, fading, multipath, doppler shift, Interference.\n",
        "\n",
        "| Phenomenon        | What it Means                                                            | Real-Life Example                       |\n",
        "| ----------------- | ------------------------------------------------------------------------ | --------------------------------------- |\n",
        "| **Noise**         | Random unwanted signals mixing with our data                            | Static you hear on a bad phone call     |\n",
        "| **Fading**        | Signal weakens due to multiple paths arriving with delay                 | Echoes or dropped calls in tunnels      |\n",
        "| **Multipath**     | Signal bounces off buildings, walls, etc. and arrives at different times | Wi-Fi issues inside buildings           |\n",
        "| **Doppler Shift** | Frequency changes due to movement (transmitter or receiver)              | Speeding car call drops or sounds weird |\n",
        "| **Interference**  | Other signals overlap with our signals                                         | Too many people on same Wi-Fi channel   |\n",
        "\n",
        "\n",
        "## Types of channels\n",
        "\n",
        "| Channel Type                             | Description                                                         |\n",
        "| ---------------------------------------- | ------------------------------------------------------------------- |\n",
        "| **AWGN (Additive White Gaussian Noise)** | Simplest model. Only random noise is considered. Good for learning. |\n",
        "| **Flat Fading Channel**                  | Signal fades equally across all frequencies. Good for narrowband.   |\n",
        "| **Frequency-selective Channel**          | Some frequencies are affected more than others. Needs equalization. |\n",
        "| **Time-varying Channel**                 | Changes over time – e.g., when user is moving.                      |\n",
        "\n",
        "\n",
        "- Understanding channel is really important for designing better ML models ML models to predict or compensate for channel behavior (e.g., beamforming, CSI prediction).\n",
        "- Improving communication quality – less dropout, better speed.\n",
        "- Optimizing RAN components – adaptive coding, user scheduling, etc.\n",
        "\n"
      ],
      "metadata": {
        "id": "RbbAvckFCpc6"
      }
    },
    {
      "cell_type": "markdown",
      "source": [
        "# Modulation - Turning Bits into Waves\n",
        "\n",
        "Modulation = Translating digital bits into analog waveforms that can travel through the air.\n",
        "\n",
        "Raw 1s and 0s can’t fly through space. We need to convert digital bits into something physical — like electromagnetic waves — that antennas can transmit.\n",
        "\n",
        "So we “modulate” bits onto a carrier wave by changing its:\n",
        "\n",
        "- Amplitude (height)\n",
        "\n",
        "- Frequency (how fast it oscillates)\n",
        "\n",
        "- Phase (where the wave starts)\n",
        "\n",
        "| Modulation | Idea                         | Example                 | Bits/Symbol |\n",
        "| ---------- | ---------------------------- | ----------------------- | ----------- |\n",
        "| **ASK**    | Change **Amplitude**         | On-Off Keying           | 1 or more   |\n",
        "| **FSK**    | Change **Frequency**         | Morse-like code         | 1 or more   |\n",
        "| **PSK**    | Change **Phase**             | BPSK, QPSK              | 1, 2 bits   |\n",
        "| **QAM**    | Change **Amplitude + Phase** | 16-QAM, 64-QAM, 256-QAM | 4, 6, 8+    |\n",
        "\n",
        "\n",
        "💬 QAM is used in modern systems like 5G, Wi-Fi, LTE — because it’s highly efficient.\n",
        "\n",
        "5G NR dynamically switches modulation levels (QPSK, 16-QAM, up to 1024-QAM) depending on channel quality.\n",
        "\n",
        "! ML-based systems try to predict the best modulation scheme in real-time.\n",
        "\n",
        "\n",
        "## Modulation Schemes:\n",
        "\n",
        "| Abbreviation | Full Form                                     | Description                                                                                                      |\n",
        "| ------------ | --------------------------------------------- | ---------------------------------------------------------------------------------------------------------------- |\n",
        "| **QAM**      | Quadrature Amplitude Modulation               | Combines amplitude and phase variations to transmit data; widely used in modern systems like 4G/5G.              |\n",
        "| **PSK**      | Phase Shift Keying                            | Modulates the phase of the carrier wave to represent data (e.g., BPSK, QPSK).                                    |\n",
        "| **BPSK**     | Binary Phase Shift Keying                     | Uses two phase states to represent binary 0 and 1.                                                               |\n",
        "| **QPSK**     | Quadrature Phase Shift Keying                 | Uses four distinct phase shifts, representing 2 bits per symbol.                                                 |\n",
        "| **FSK**      | Frequency Shift Keying                        | Uses different frequencies to transmit binary data (e.g., BFSK).                                                 |\n",
        "| **ASK**      | Amplitude Shift Keying                        | Varies amplitude of the carrier signal for data representation.                                                  |\n",
        "| **OFDM**     | Orthogonal Frequency Division Multiplexing    | A multicarrier modulation technique used in 4G/5G to combat multipath fading and increase efficiency.            |\n",
        "| **OFDMA**    | Orthogonal Frequency Division Multiple Access | An extension of OFDM used in multi-user systems (e.g., LTE, 5G NR) by allocating different subcarriers to users. |\n",
        "\n"
      ],
      "metadata": {
        "id": "-vpgNN4JD_wn"
      }
    },
    {
      "cell_type": "markdown",
      "source": [
        "# Multiple Access Techniques - How users share the Spectrum\n",
        "\n",
        "| Abbreviation | Full Form                                     | Description                                                                            |\n",
        "| ------------ | --------------------------------------------- | -------------------------------------------------------------------------------------- |\n",
        "| **FDMA**     | Frequency Division Multiple Access            | Users are assigned separate frequency bands. Used in 1G.                               |\n",
        "| **TDMA**     | Time Division Multiple Access                 | Users share the same frequency but transmit in different time slots. Used in 2G (GSM). |\n",
        "| **CDMA**     | Code Division Multiple Access                 | Users share frequency and time, separated by unique codes. Used in 3G.                 |\n",
        "| **OFDMA**    | Orthogonal Frequency Division Multiple Access | Users transmit simultaneously over orthogonal subcarriers. Used in 4G and 5G.          |\n",
        "\n",
        "\n",
        "In wireless communication, multiple access techniques are used to allow multiple users to simultaneously access the same physical medium (radio spectrum) efficiently and with minimal interference.\n",
        "\n",
        "Each multiple access scheme defines how resources like time, frequency, or codes are allocated to users. Let’s explore the most widely used ones:\n",
        "\n",
        "1. TDMA - Time Division Multiple Access\n",
        "Core Idea: Each user gets a specific time slot on the same frequency.\n",
        "\n",
        "- The time is divided into frames and each frame is split into time slots.\n",
        "- Each user is assigned one or more time slots per frame.\n",
        "- Very efficient for voice and circuit-switched data.\n",
        "- Widely used in 2G where voice was priority.\n",
        "\n",
        "2. FDMA - Frequency Division Multiple Access\n",
        "Core Idea: Each user is assigned a different frequency band.\n",
        "\n",
        "- The total available bandwidth is divided into multiple frequency channels.\n",
        "\n",
        "- Each user transmits on a unique frequency.\n",
        "\n",
        "- Used in older analog systems. Especially in 1G\n"
      ],
      "metadata": {
        "id": "wpbqkPMbgS1m"
      }
    },
    {
      "cell_type": "markdown",
      "source": [
        "# Other Wireless Terms\n",
        "\n",
        "| Abbreviation | Full Form                       | Description                                                                                    |\n",
        "| ------------ | ------------------------------- | ---------------------------------------------------------------------------------------------- |\n",
        "| **MIMO**     | Multiple-Input Multiple-Output  | Uses multiple antennas at both transmitter and receiver to improve capacity and reliability.   |\n",
        "| **HARQ**     | Hybrid Automatic Repeat reQuest | Combines error detection and retransmission with forward error correction.                     |\n",
        "| **RAN**      | Radio Access Network            | Part of the mobile network that connects devices to the core network (includes base stations). |\n",
        "| **RIC**      | RAN Intelligent Controller      | Used in O-RAN to enable intelligent, ML-driven control over the RAN.                           |\n",
        "| **NR**       | New Radio                       | 5G air interface specification.                                                                |\n"
      ],
      "metadata": {
        "id": "GZwj4tAAgV38"
      }
    },
    {
      "cell_type": "code",
      "execution_count": null,
      "metadata": {
        "id": "FDqUl-_iChAt"
      },
      "outputs": [],
      "source": []
    }
  ]
}