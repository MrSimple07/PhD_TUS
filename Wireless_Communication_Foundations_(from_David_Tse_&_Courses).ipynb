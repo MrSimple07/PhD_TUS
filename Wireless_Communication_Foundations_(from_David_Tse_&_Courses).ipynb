{
  "nbformat": 4,
  "nbformat_minor": 0,
  "metadata": {
    "colab": {
      "provenance": [],
      "authorship_tag": "ABX9TyNYWJysW415qu1nQNWpfWMg",
      "include_colab_link": true
    },
    "kernelspec": {
      "name": "python3",
      "display_name": "Python 3"
    },
    "language_info": {
      "name": "python"
    }
  },
  "cells": [
    {
      "cell_type": "markdown",
      "metadata": {
        "id": "view-in-github",
        "colab_type": "text"
      },
      "source": [
        "<a href=\"https://colab.research.google.com/github/MrSimple07/PhD_TUS/blob/main/Wireless_Communication_Foundations_(from_David_Tse_%26_Courses).ipynb\" target=\"_parent\"><img src=\"https://colab.research.google.com/assets/colab-badge.svg\" alt=\"Open In Colab\"/></a>"
      ]
    },
    {
      "cell_type": "markdown",
      "source": [
        "## 1. Wireless Communication Foundations (from David Tse & Courses)\n",
        "\n",
        "### 1.1. Key Concepts\n",
        "- **Channel**: Path that the signal takes from transmitter to receiver. Includes effects like noise, fading, interference.\n",
        "- **Modulation**: Mapping bits to waveforms (e.g., QAM, PSK).\n",
        "- **Multiple Access**: How users share spectrum. (TDMA, FDMA, OFDMA).\n",
        "- **MIMO**: Using multiple antennas to increase throughput/reliability.\n",
        "\n",
        "### 1.2. Channel Types\n",
        "- **AWGN (Additive White Gaussian Noise)**: Simplest, just noise.\n",
        "- **Rayleigh Fading**: No line-of-sight (multipath fading).\n",
        "- **Rician Fading**: Some line-of-sight + multipath.\n",
        "\n",
        "### 1.3. Capacity & Tradeoffs\n",
        "- **Shannon Capacity**: Max bits/sec you can send over a noisy channel.\n",
        "- **SNR (Signal-to-Noise Ratio)**: Higher SNR → higher capacity.\n",
        "\n",
        "> 🧠 ML Link: Learn to estimate, predict, and adapt to channel conditions (fading, interference) in real time.\n",
        "\n",
        "---"
      ],
      "metadata": {
        "id": "tYnqkqQICjt1"
      }
    },
    {
      "cell_type": "markdown",
      "source": [
        "# Channel\n",
        "\n",
        "We can see it as a signal's journey. It can be with noise, fading, multipath, doppler shift, Interference.\n",
        "\n",
        "| Phenomenon        | What it Means                                                            | Real-Life Example                       |\n",
        "| ----------------- | ------------------------------------------------------------------------ | --------------------------------------- |\n",
        "| **Noise**         | Random unwanted signals mixing with our data                            | Static you hear on a bad phone call     |\n",
        "| **Fading**        | Signal weakens due to multiple paths arriving with delay                 | Echoes or dropped calls in tunnels      |\n",
        "| **Multipath**     | Signal bounces off buildings, walls, etc. and arrives at different times | Wi-Fi issues inside buildings           |\n",
        "| **Doppler Shift** | Frequency changes due to movement (transmitter or receiver)              | Speeding car call drops or sounds weird |\n",
        "| **Interference**  | Other signals overlap with our signals                                         | Too many people on same Wi-Fi channel   |\n",
        "\n",
        "\n",
        "## Types of channels\n",
        "\n",
        "| Channel Type                             | Description                                                         |\n",
        "| ---------------------------------------- | ------------------------------------------------------------------- |\n",
        "| **AWGN (Additive White Gaussian Noise)** | Simplest model. Only random noise is considered. Good for learning. |\n",
        "| **Flat Fading Channel**                  | Signal fades equally across all frequencies. Good for narrowband.   |\n",
        "| **Frequency-selective Channel**          | Some frequencies are affected more than others. Needs equalization. |\n",
        "| **Time-varying Channel**                 | Changes over time – e.g., when user is moving.                      |\n",
        "\n",
        "\n",
        "- Understanding channel is really important for designing better ML models ML models to predict or compensate for channel behavior (e.g., beamforming, CSI prediction).\n",
        "- Improving communication quality – less dropout, better speed.\n",
        "- Optimizing RAN components – adaptive coding, user scheduling, etc.\n",
        "\n"
      ],
      "metadata": {
        "id": "RbbAvckFCpc6"
      }
    },
    {
      "cell_type": "markdown",
      "source": [
        "# Modulation"
      ],
      "metadata": {
        "id": "-vpgNN4JD_wn"
      }
    },
    {
      "cell_type": "code",
      "execution_count": null,
      "metadata": {
        "id": "FDqUl-_iChAt"
      },
      "outputs": [],
      "source": []
    }
  ]
}