{
  "nbformat": 4,
  "nbformat_minor": 0,
  "metadata": {
    "colab": {
      "provenance": [],
      "authorship_tag": "ABX9TyOaAHrdG4TA1xjXbDZdADqz",
      "include_colab_link": true
    },
    "kernelspec": {
      "name": "python3",
      "display_name": "Python 3"
    },
    "language_info": {
      "name": "python"
    }
  },
  "cells": [
    {
      "cell_type": "markdown",
      "metadata": {
        "id": "view-in-github",
        "colab_type": "text"
      },
      "source": [
        "<a href=\"https://colab.research.google.com/github/MrSimple07/PhD_TUS/blob/main/Open_RAN_Study.ipynb\" target=\"_parent\"><img src=\"https://colab.research.google.com/assets/colab-badge.svg\" alt=\"Open In Colab\"/></a>"
      ]
    },
    {
      "cell_type": "markdown",
      "source": [
        "# Wireless Communications\n",
        "\n",
        "## Fundamentals of Wireless Communications\n",
        "- Introduction and History of Cellular Communication Systems\n",
        "- Development of cellular systems (1G to 4G).\n",
        "\n",
        "## Brief overview of future cellular systems (e.g., early concepts of 5G).\n",
        "\n",
        "- Principles of Wireless Communication Theory\n",
        "\n",
        "- Information representation in binary format.\n",
        "\n",
        "- Mechanisms of wireless information transfer.\n",
        "\n",
        "- Functioning of wireless digital MODEMs.\n",
        "\n",
        "- Methods for reliable high-rate data delivery.\n",
        "\n",
        "- Techniques for simultaneous user access.\n",
        "\n",
        "## Principles of Wireless Resource Management\n",
        "- Impact of interference on wireless network capacity.\n",
        "- Evolutionary aspects of cellular systems.\n",
        "- Strategies for interference management.\n",
        "\n",
        "- Scheduling techniques to increase capacity.\n",
        "\n",
        "- Introduction to 5G cellular shaping.\n",
        "\n",
        "## Multiple Antenna Technologies\n",
        "- Basic principles of antennas.\n",
        "\n",
        "- Understanding gains achievable through multiple antennas (array gain, diversity gain, spatial multiplexing gain).\n",
        "\n",
        "- Concepts of Single-User Multiple-Input Multiple-Output (MIMO).\n",
        "\n",
        "- Concepts of Multi-User MIMO.\n",
        "\n",
        "## Physical Layer Design of LTE Systems\n",
        "- Practical implementation of wireless communication principles in LTE (Long-Term Evolution) systems.\n",
        "\n",
        "## LTE Cellular Networks and Services\n",
        "- Distinction between circuit switching and packet switching.\n",
        "- Overview of mobile network operations.\n",
        "- Handover procedures in cellular networks.\n",
        "- Integration and interaction of LTE with WiFi."
      ],
      "metadata": {
        "id": "dbFslVhYnSvf"
      }
    },
    {
      "cell_type": "markdown",
      "source": [
        " # Books\n",
        "1. Wireless Communications – Andrea Goldsmith\n",
        "→ Focus: fundamentals, channel models, capacity, modulation.\n",
        "\n",
        "2. Fundamentals of Wireless Communication – David Tse & Pramod Viswanath\n",
        "→ Focus: in-depth mathematical understanding.\n",
        "\n",
        "3. 5G Mobile and Wireless Communications Technology – Afif Osseiran\n",
        "→ Focus: system-level view of 5G architecture, PHY/MAC layers.\n",
        "\n",
        "4. Mobile Communications – Jochen Schiller\n",
        "→ Focus: introductory and well-structured for beginners."
      ],
      "metadata": {
        "id": "EcXhJUzisnHy"
      }
    },
    {
      "cell_type": "markdown",
      "source": [
        "# Practical part\n",
        "\n",
        "- Install OAI RAN on Ubuntu (with or without SDR hardware like USRP)\n",
        "\n",
        "- Connect it to a 5G core (Open5GS or free5GC)\n",
        "\n",
        "- Deploy FlexRIC with OAI\n",
        "\n",
        "- Build simple xApps (e.g., logging UE throughput, handover decision logic)\n",
        "\n",
        "- Explore metrics via the E2 interface"
      ],
      "metadata": {
        "id": "_xXN1wqD1xDi"
      }
    },
    {
      "cell_type": "markdown",
      "source": [
        "# Principles of Wireless Communication Theory\n",
        "\n",
        "Wireless communication theory is the study of how information can be reliably transmitted over air using electromagnetic waves. This field is foundational to all modern wireless systems: 5G, Wi-Fi, Bluetooth, satellite, and IoT.\n",
        "\n",
        "It combines elements of:\n",
        "\n",
        "- Information theory\n",
        "\n",
        "- Signal processing\n",
        "\n",
        "- Electromagnetic propagation\n",
        "\n",
        "- Modulation techniques\n",
        "\n",
        "- Channel modeling\n",
        "\n",
        "- Capacity optimization\n",
        "\n",
        "## 2. Key Components in WC\n",
        "\n",
        "1. Transmitter and Receiver\n",
        "- Transmitter: Converts digital bits into analog signals and modulates them for transmission.\n",
        "\n",
        "- Receiver: Demodulates the received signals and decodes them back into digital bits.\n",
        "\n",
        "2. The Wireless Channel\n",
        "The medium between the transmitter and receiver is full of uncertainties:\n",
        "\n",
        "- Noise, Interference, Fading, Doppler Effects, Delay Spread\n",
        "\n",
        "Understanding this channel is crucial because it's non-deterministic and always changing.\n",
        "\n",
        "## 3. Channel Types and Models\n",
        "a. AWGN Channel (Additive White Gaussian Noise)\n",
        "- Simplest Model\n",
        "- Captures Thermanl Noise\n",
        "- Assumes Constant channel gain\n",
        "\n",
        "b. Fading Channels\n",
        "- Flat fading: entire signal is scaled by a random factor\n",
        "- Frequency-selective fading: different frequencies experience different fading\n",
        "\n",
        "- Rayleigh/Rician models: statistical models to characterize fast fading\n",
        "\n"
      ],
      "metadata": {
        "id": "FjRytSFyESTW"
      }
    },
    {
      "cell_type": "code",
      "source": [],
      "metadata": {
        "id": "lVBeB2VRmPLe"
      },
      "execution_count": null,
      "outputs": []
    }
  ]
}