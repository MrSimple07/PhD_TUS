{
  "nbformat": 4,
  "nbformat_minor": 0,
  "metadata": {
    "colab": {
      "provenance": [],
      "authorship_tag": "ABX9TyO0usFymKd5sm7Qo3hf2eoy",
      "include_colab_link": true
    },
    "kernelspec": {
      "name": "python3",
      "display_name": "Python 3"
    },
    "language_info": {
      "name": "python"
    }
  },
  "cells": [
    {
      "cell_type": "markdown",
      "metadata": {
        "id": "view-in-github",
        "colab_type": "text"
      },
      "source": [
        "<a href=\"https://colab.research.google.com/github/MrSimple07/PhD_TUS/blob/main/ML_for_Open_RAN.ipynb\" target=\"_parent\"><img src=\"https://colab.research.google.com/assets/colab-badge.svg\" alt=\"Open In Colab\"/></a>"
      ]
    },
    {
      "cell_type": "markdown",
      "source": [
        "# ML for Open RAN\n",
        "\n",
        "Training ML models that processes RAN metrics and output decisions or predictions that help optimize the network. These models will be integrated into xApps that operate the near-real-time RIC (FlexRIC)"
      ],
      "metadata": {
        "id": "EjEIj2cT6G84"
      }
    },
    {
      "cell_type": "markdown",
      "source": [
        "# Possible Applications (My Ideas)\n",
        "\n",
        "1. Beamforming Optimization\n",
        "2. User Scheduling\n",
        "3. Modulation and Coding Scheme (MCS) Selection\n",
        "4. Anomaly Detection"
      ],
      "metadata": {
        "id": "EM5KGg5B63Kp"
      }
    },
    {
      "cell_type": "code",
      "execution_count": null,
      "metadata": {
        "id": "S_BYkigx6BkN"
      },
      "outputs": [],
      "source": []
    }
  ]
}