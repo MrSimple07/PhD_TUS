{
  "nbformat": 4,
  "nbformat_minor": 0,
  "metadata": {
    "colab": {
      "provenance": [],
      "authorship_tag": "ABX9TyNBIa9f+s4bCs4I2AiaqihI",
      "include_colab_link": true
    },
    "kernelspec": {
      "name": "python3",
      "display_name": "Python 3"
    },
    "language_info": {
      "name": "python"
    }
  },
  "cells": [
    {
      "cell_type": "markdown",
      "metadata": {
        "id": "view-in-github",
        "colab_type": "text"
      },
      "source": [
        "<a href=\"https://colab.research.google.com/github/MrSimple07/PhD_TUS/blob/main/O_RAN_code_sources.ipynb\" target=\"_parent\"><img src=\"https://colab.research.google.com/assets/colab-badge.svg\" alt=\"Open In Colab\"/></a>"
      ]
    },
    {
      "cell_type": "markdown",
      "source": [
        "Testbed source code:\n",
        "\n",
        "- RAN: https://gitlab.eurecom.fr/oai/openairinterface5g\n",
        "- RAN Intelligent Controller: https://gitlab.eurecom.fr/mosaic5g/flexric"
      ],
      "metadata": {
        "id": "-kg1QFqkmOQC"
      }
    },
    {
      "cell_type": "markdown",
      "source": [
        "# 1. Open Air Interface 5G\n",
        "\n",
        "- Open-source 5G software created by Eurecom and maintained by the OpenAirInterface Software Alliance. It lets you build real-world 5G networks on regular computers and SDR (Software Defined Radio) hardware.\n",
        "\n",
        "- Includes both the Radio Access Network (RAN) and the 5G Core Network (5GC) — everything needed to connect devices and manage network services based on 3GPP (the global telecom standard)."
      ],
      "metadata": {
        "id": "oB-_sqWBpxhK"
      }
    },
    {
      "cell_type": "markdown",
      "source": [
        "# Main components:\n",
        "\n",
        "- RAN module\n",
        "  - Implements the gNB base station and UE (User Equipment) components for both Stand-Alone (SA) and Non-Stand-Alone (NSA) modes.\n",
        "\n",
        "  - Supports key 5G features like CU/DU separation, MIMO antennas, and integration with control and user plane split (F1-C/F1-U interfaces)\n",
        "\n",
        "- Core Network (5GC)\n",
        "  - You get full open-source implementations of crucial network functions such as AMF, SMF, UPF, NRF, AUSF, UDM, UDR, and partial slicing function NSSF.\n",
        "\n",
        "  - Supports UE registration, session management, handover, paging, network slicing, and multiple simultaneous data sessions.\n"
      ],
      "metadata": {
        "id": "mQEK6zXPp902"
      }
    },
    {
      "cell_type": "markdown",
      "source": [
        "# How It’s Built & Used\n",
        "- Written in C/C++; built with CMake and supports real-time emulation or live deployment using tools like Docker, Kubernetes, or bare-metal.\n",
        "\n",
        "- Tested with containerized testbeds and tools like RFsimulator, UERANSIM, or commercial gNBs to validate coverage and performance."
      ],
      "metadata": {
        "id": "Md4U73uoqRFl"
      }
    },
    {
      "cell_type": "markdown",
      "source": [
        "# 2. RAN Intelligent Controller: https://gitlab.eurecom.fr/mosaic5g/flexric\n",
        "\n",
        "The flexric project on GitLab (https://gitlab.eurecom.fr/mosaic5g/flexric) is an open-source implementation of a RAN Intelligent Controller (RIC), specifically focusing on the Near-Real-Time (Near-RT) RIC component within the O-RAN (Open Radio Access Network) architecture.\n",
        "\n",
        "## What is flexric?\n",
        "\n",
        "- flexric is a software framework designed to enable intelligence and programmability in the Radio Access Network (RAN). It acts as a platform for deploying and executing xApps (for Near-RT RIC) and potentially rApps (for Non-RT RIC), which are applications that provide advanced control, optimization, and management functionalities for the RAN.\n",
        "\n",
        "## Core Components and Features of flexric:\n",
        "1. Near-RT RIC Implementation: Provides the core functionalities of the Near-RT RIC, including:\n",
        "\n",
        "- E2 Termination: Handles the E2 interface, allowing communication with O-RAN E2 Nodes (e.g., O-DU, O-CU). This is crucial for collecting real-time RAN data and sending control commands.\n",
        "\n",
        "- xApp Management: Provides an environment for deploying, running, and managing xApps.\n",
        "\n",
        "- Subscription Management: Enables xApps to subscribe to specific events and data streams from E2 Nodes.\n",
        "\n",
        "- Control/Action Enforcement: Facilitates xApps sending control commands (e.g., policy changes, resource allocation adjustments) to E2 Nodes.\n",
        "\n",
        "2. E2 Interface Support: flexric implements the E2 Application Protocol (E2AP), which is the standardized interface for communication between the RIC and RAN functions. This allows for:\n",
        "\n",
        "- E2 Indication: Receiving real-time data from RAN (e.g., measurements, reports).\n",
        "\n",
        "- E2 Control: Sending control messages to RAN functions.\n",
        "\n",
        "- E2 Setup: Establishing the connection between the RIC and E2 Nodes.\n",
        "\n",
        "3. xApp Development Framework: While flexric is the RIC platform, it implicitly supports the development of xApps. These xApps can implement various intelligent control loops, such as:\n",
        "\n",
        "- Traffic Steering: Optimizing user traffic across different cells or frequency layers.\n",
        "\n",
        "- Interference Management: Reducing interference between users or cells.\n",
        "\n",
        "- Mobility Management: Improving handover performance.\n",
        "\n",
        "- Resource Optimization: Dynamically allocating radio resources.\n",
        "\n",
        "4. Flexibility and Modularity: The name \"flexric\" suggests a focus on flexibility. It's designed to be modular, allowing researchers and developers to extend its capabilities and integrate new xApps or functionalities."
      ],
      "metadata": {
        "id": "MDipP4QjadXZ"
      }
    },
    {
      "cell_type": "code",
      "execution_count": null,
      "metadata": {
        "id": "BCBqKJTwmE8B"
      },
      "outputs": [],
      "source": []
    }
  ]
}