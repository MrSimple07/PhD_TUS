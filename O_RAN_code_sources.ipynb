{
  "nbformat": 4,
  "nbformat_minor": 0,
  "metadata": {
    "colab": {
      "provenance": [],
      "authorship_tag": "ABX9TyNuGMwPjffcXiraf5FnC1pA",
      "include_colab_link": true
    },
    "kernelspec": {
      "name": "python3",
      "display_name": "Python 3"
    },
    "language_info": {
      "name": "python"
    }
  },
  "cells": [
    {
      "cell_type": "markdown",
      "metadata": {
        "id": "view-in-github",
        "colab_type": "text"
      },
      "source": [
        "<a href=\"https://colab.research.google.com/github/MrSimple07/PhD_TUS/blob/main/O_RAN_code_sources.ipynb\" target=\"_parent\"><img src=\"https://colab.research.google.com/assets/colab-badge.svg\" alt=\"Open In Colab\"/></a>"
      ]
    },
    {
      "cell_type": "markdown",
      "source": [
        "Testbed source code:\n",
        "\n",
        "- RAN: https://gitlab.eurecom.fr/oai/openairinterface5g\n",
        "- RAN Intelligent Controller: https://gitlab.eurecom.fr/mosaic5g/flexric"
      ],
      "metadata": {
        "id": "-kg1QFqkmOQC"
      }
    },
    {
      "cell_type": "markdown",
      "source": [
        "# 1. Open Air Interface 5G\n",
        "\n",
        "- Open-source 5G software created by Eurecom and maintained by the OpenAirInterface Software Alliance. It lets you build real-world 5G networks on regular computers and SDR (Software Defined Radio) hardware.\n",
        "\n",
        "- Includes both the Radio Access Network (RAN) and the 5G Core Network (5GC) — everything needed to connect devices and manage network services based on 3GPP (the global telecom standard)."
      ],
      "metadata": {
        "id": "oB-_sqWBpxhK"
      }
    },
    {
      "cell_type": "markdown",
      "source": [
        "# Main components:\n",
        "\n",
        "- RAN module\n",
        "  - Implements the gNB base station and UE (User Equipment) components for both Stand-Alone (SA) and Non-Stand-Alone (NSA) modes.\n",
        "\n",
        "  - Supports key 5G features like CU/DU separation, MIMO antennas, and integration with control and user plane split (F1-C/F1-U interfaces)\n",
        "\n",
        "- Core Network (5GC)\n",
        "  - You get full open-source implementations of crucial network functions such as AMF, SMF, UPF, NRF, AUSF, UDM, UDR, and partial slicing function NSSF.\n",
        "\n",
        "  - Supports UE registration, session management, handover, paging, network slicing, and multiple simultaneous data sessions.\n"
      ],
      "metadata": {
        "id": "mQEK6zXPp902"
      }
    },
    {
      "cell_type": "markdown",
      "source": [
        "# How It’s Built & Used\n",
        "- Written in C/C++; built with CMake and supports real-time emulation or live deployment using tools like Docker, Kubernetes, or bare-metal.\n",
        "\n",
        "- Tested with containerized testbeds and tools like RFsimulator, UERANSIM, or commercial gNBs to validate coverage and performance."
      ],
      "metadata": {
        "id": "Md4U73uoqRFl"
      }
    },
    {
      "cell_type": "code",
      "execution_count": null,
      "metadata": {
        "id": "BCBqKJTwmE8B"
      },
      "outputs": [],
      "source": []
    }
  ]
}